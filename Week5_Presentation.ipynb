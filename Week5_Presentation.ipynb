{
    "nbformat_minor": 1, 
    "cells": [
        {
            "source": "# Capstone Project Presentation\n\n", 
            "cell_type": "markdown", 
            "metadata": {
                "collapsed": true
            }
        }, 
        {
            "source": "# Introduction    \n\n* A client wants to oepn a coffee shop but they don't know where to locate the coffee shop.\n* The client is struggling to find the exact spot or location where to open the coffee shop.\n* The client is targeting middle class to high class customers in between New York and Torono.\n* The client wants their coffee shop to be the best but also have reasonable prices.\nThis project aims to make it easy for the client to find a perfect spot to open their coffee shop,\nby providing all nearby locations or spots around New York and Toronto.\nThis project will try to build and make recommendations which will be a guiding line to the client.", 
            "cell_type": "markdown", 
            "metadata": {}
        }, 
        {
            "source": "# Data\n\n* The data was collected from Foursquare. \n*The data is about the municipalities in New York and Toronto.\n* It includes all the locations within New York and Toronto.\n* The data gave us an opportunity to inspect and find a suitable \nlocation or spot for the client to open their coffee shop.\n", 
            "cell_type": "markdown", 
            "metadata": {}
        }, 
        {
            "source": "# Methodology\n\n* K-Means was used to cluster or segment the neighborhoods based on their similarities.\n* This method made it easy for the client to make an informed decision about the location\nto open their coffee shop. ", 
            "cell_type": "markdown", 
            "metadata": {}
        }, 
        {
            "source": "# Results\n\n* K-Means produced the results which were looked into. \n* Based on the feautures around the areas, 5 clusters were found. \n* Each cluster has it's unique features.\n* It is hard to find the perfect spot but the client will make an \ninformed decision based on the characteristics in each cluster.", 
            "cell_type": "markdown", 
            "metadata": {}
        }, 
        {
            "source": "# Conclusion\n\n* After careful assessment, the spots which seems to be the\nperfect spots are the ones situated around shopping centres.", 
            "cell_type": "markdown", 
            "metadata": {}
        }, 
        {
            "execution_count": null, 
            "cell_type": "code", 
            "metadata": {}, 
            "outputs": [], 
            "source": ""
        }
    ], 
    "metadata": {
        "kernelspec": {
            "display_name": "Python 3.5", 
            "name": "python3", 
            "language": "python"
        }, 
        "language_info": {
            "mimetype": "text/x-python", 
            "nbconvert_exporter": "python", 
            "version": "3.5.5", 
            "name": "python", 
            "file_extension": ".py", 
            "pygments_lexer": "ipython3", 
            "codemirror_mode": {
                "version": 3, 
                "name": "ipython"
            }
        }
    }, 
    "nbformat": 4
}