{
    "nbformat_minor": 1, 
    "cells": [
        {
            "source": "# Capstone Project Report\n\n", 
            "cell_type": "markdown", 
            "metadata": {
                "collapsed": true
            }
        }, 
        {
            "source": "# Introduction/Business Problem \n\nA client wants to oepn a coffee shop but they don't know where to locate the coffee shop.\nThe client is struggling to find the exact spot or location where to open the coffee shop.\nThe client is targeting middle class to high class customers in between New York and Torono.\nThe client wants their coffee shop to be the best but also have reasonable prices.\n\nThis project aims to make it easy for the client to find a perfect spot to open their coffee shop,\nby providing all nearby locations or spots around New York and Toronto.\n\nThis project will try to build and make recommendations which will be a guiding line to the client.   ", 
            "cell_type": "markdown", 
            "metadata": {}
        }, 
        {
            "source": "# Data\n\nThe data will be collected from Foursquare. The data will be about the municipalities in New York and Toronto\nwhich includes all the locations within New York and Toronto.\n\nThe data will allow us to inspect and find a suitable location or spot for the client to open their coffee shop.", 
            "cell_type": "markdown", 
            "metadata": {}
        }, 
        {
            "source": "# Methodology\n\nK-Means was used to cluster or segment the neighborhoods based on their similarities.\n\nThis method will make it easy for the client to make an informed decision about the location\nto open their coffee shop.", 
            "cell_type": "markdown", 
            "metadata": {}
        }, 
        {
            "source": "# Results\n\nK-Means produced the results which were looked into. Based on the feautures around the areas,\n5 clusters were found. Each cluster has it's unique features.\n\nIt is hard to find the perfect spot but the client will make an informed decition based on the\ncharacteristics in each cluster. ", 
            "cell_type": "markdown", 
            "metadata": {}
        }, 
        {
            "source": "# Conclusion\n\nAfter careful assessment, the spots which seems to be the perfect spots are the ones situated\naround shopping centres.", 
            "cell_type": "markdown", 
            "metadata": {}
        }, 
        {
            "execution_count": null, 
            "cell_type": "code", 
            "metadata": {}, 
            "outputs": [], 
            "source": ""
        }
    ], 
    "metadata": {
        "kernelspec": {
            "display_name": "Python 3.5", 
            "name": "python3", 
            "language": "python"
        }, 
        "language_info": {
            "mimetype": "text/x-python", 
            "nbconvert_exporter": "python", 
            "version": "3.5.5", 
            "name": "python", 
            "file_extension": ".py", 
            "pygments_lexer": "ipython3", 
            "codemirror_mode": {
                "version": 3, 
                "name": "ipython"
            }
        }
    }, 
    "nbformat": 4
}